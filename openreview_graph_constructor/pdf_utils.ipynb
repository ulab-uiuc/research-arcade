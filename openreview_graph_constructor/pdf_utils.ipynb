{
 "cells": [
  {
   "cell_type": "markdown",
   "id": "07027768",
   "metadata": {},
   "source": [
    "## Retrieve PDF based on openreview_id"
   ]
  },
  {
   "cell_type": "code",
   "execution_count": null,
   "id": "604223de",
   "metadata": {},
   "outputs": [],
   "source": [
    "import requests\n",
    "\n",
    "def get_pdf(id, pdf_name):\n",
    "    # pdf url\n",
    "    pdf_url = \"https://openreview.net/notes/edits/attachment?id=\"+id+\"&name=pdf\"\n",
    "    \n",
    "    headers = {\n",
    "        \"User-Agent\": \"Mozilla/5.0\"\n",
    "    }\n",
    "    response = requests.get(pdf_url, headers=headers)\n",
    "    if response.status_code == 200:\n",
    "        with open(pdf_name, \"wb\") as f:\n",
    "            f.write(response.content)\n",
    "        print(\"✅ PDF is downloaded as \"+pdf_name)\n",
    "    else:\n",
    "        print(\"❌ Failure, Status Code: \", response.status_code)"
   ]
  },
  {
   "cell_type": "markdown",
   "id": "df750b42",
   "metadata": {},
   "source": [
    "## Compare thr Differences between two PDFs"
   ]
  },
  {
   "cell_type": "code",
   "execution_count": null,
   "id": "2e6f7b59",
   "metadata": {},
   "outputs": [],
   "source": [
    "from pdfminer.high_level import extract_text\n",
    "import difflib\n",
    "from tqdm import tqdm\n",
    "\n",
    "def extract_text_from_pdf(pdf_path):\n",
    "    return extract_text(pdf_path)\n",
    "\n",
    "def compare_texts(text1, text2):\n",
    "    diff = difflib.unified_diff(\n",
    "        text1.splitlines(),\n",
    "        text2.splitlines(),\n",
    "        fromfile='Original',\n",
    "        tofile='Modified',\n",
    "        lineterm=''\n",
    "    )\n",
    "    return '\\n'.join(diff)\n",
    "\n",
    "def parse_diff(diff_text):\n",
    "    lines = diff_text.splitlines()\n",
    "    \n",
    "    all_diff = []\n",
    "    current_diff = None\n",
    "    for line in tqdm(lines[2:]):\n",
    "        # Check for diff change markers\n",
    "        if line.startswith('@@'):\n",
    "            if current_diff is not None:\n",
    "                # Add the previous diff to the corresponding list\n",
    "                all_diff.append(current_diff)\n",
    "            # Start a new diff block\n",
    "            current_diff = {\n",
    "                'context_before': \"\",\n",
    "                'context_after': \"\",\n",
    "                'original_lines': \"\",\n",
    "                'modified_lines': \"\",\n",
    "            }\n",
    "        elif line.startswith('-'):\n",
    "            current_diff['original_lines'] = current_diff['original_lines'] + line[1:].strip() + \" \"\n",
    "        elif line.startswith('+'):\n",
    "            current_diff['modified_lines'] = current_diff['modified_lines'] + line[1:].strip() + \" \"\n",
    "        elif line.strip() != \"\" and (current_diff['original_lines'] == \"\" and current_diff['modified_lines'] == \"\"):\n",
    "            current_diff['context_before'] = current_diff['context_before'] + line.strip() + \" \"\n",
    "        elif line.strip() != \"\" and (current_diff['original_lines'] != \"\" or current_diff['modified_lines'] != \"\"):\n",
    "            current_diff['context_after'] = current_diff['context_after'] + line.strip() + \" \"\n",
    "            \n",
    "    print(\"successfully build all_diff\")\n",
    "    \n",
    "    return all_diff"
   ]
  },
  {
   "cell_type": "markdown",
   "id": "455add89",
   "metadata": {},
   "source": [
    "#### Usage"
   ]
  },
  {
   "cell_type": "code",
   "execution_count": null,
   "id": "6a15fb9f",
   "metadata": {},
   "outputs": [],
   "source": [
    "pdf_original = \"original.pdf\"\n",
    "pdf_modified = \"modified.pdf\"\n",
    "\n",
    "# extract text\n",
    "original = extract_text_from_pdf(pdf_original)\n",
    "modified = extract_text_from_pdf(pdf_modified)\n",
    "\n",
    "# compare the differences\n",
    "diff_result = compare_texts(original, modified)\n",
    "\n",
    "# format the differences into dict\n",
    "all_diff_dict = parse_diff(diff_result)"
   ]
  },
  {
   "cell_type": "markdown",
   "id": "2804d910",
   "metadata": {},
   "source": [
    "## Extract Image from a PDF"
   ]
  },
  {
   "cell_type": "code",
   "execution_count": null,
   "id": "b95efdcd",
   "metadata": {},
   "outputs": [],
   "source": [
    "import pikepdf\n",
    "from pathlib import Path\n",
    "\n",
    "def find_items_with_prefix(obj, prefix):\n",
    "    results = []\n",
    "    try:\n",
    "        for k in obj:\n",
    "            key_str = str(k)\n",
    "            if key_str.startswith(prefix):\n",
    "                results.append((k, obj[k]))\n",
    "            results.extend(find_items_with_prefix(obj[k], prefix))\n",
    "    except:\n",
    "        pass\n",
    "    return results\n",
    "\n",
    "def wrap_form_xobject(page: pikepdf.Page, prefix_name: str, out_pdf_prefix: str = \"page_1_figure\"):\n",
    "    # 1) Grab the all the image item\n",
    "    xobjs = page.Resources.get(\"/XObject\", {})\n",
    "    all_form = find_items_with_prefix(xobjs, prefix_name)\n",
    "    \n",
    "    cnt = 0\n",
    "    for xobj_name, xobj_form in all_form:\n",
    "        cnt = cnt + 1\n",
    "        # 2) Create a new PDF\n",
    "        new_pdf = pikepdf.Pdf.new()\n",
    "        \n",
    "        # 3) Copy the form (and its dependencies) into new_pdf\n",
    "        form_copy = new_pdf.copy_foreign(xobj_form)\n",
    "        \n",
    "        # 4) Clone the page (to preserve MediaBox, etc.), then overwrite its Resources/Contents\n",
    "        new_pdf.pages.append(page)\n",
    "        new_page = new_pdf.pages[0]\n",
    "        \n",
    "        new_page.Resources = pikepdf.Dictionary({\n",
    "            \"/XObject\": pikepdf.Dictionary({ xobj_name: form_copy })\n",
    "        })\n",
    "        # 5) Save\n",
    "        draw_cmd = b\"q\\n1 0 0 1 0 0 cm \" + xobj_name.encode(\"utf-8\") + b\" Do\\nQ\"\n",
    "        content_stream = pikepdf.Stream(new_pdf, draw_cmd)\n",
    "        new_page.Contents = new_pdf.make_indirect(content_stream)\n",
    "        \n",
    "        output_pdf_path = Path(str(out_pdf_prefix)+\"_\"+str(cnt)+\".pdf\")\n",
    "        new_pdf.save(output_pdf_path)\n",
    "        print(\"Wrapped PDF written to\", output_pdf_path)"
   ]
  },
  {
   "cell_type": "markdown",
   "id": "7387e744",
   "metadata": {},
   "source": [
    "#### Usage"
   ]
  },
  {
   "cell_type": "code",
   "execution_count": null,
   "id": "642493d9",
   "metadata": {},
   "outputs": [],
   "source": [
    "src_pdf_path = Path(\"paper.pdf\")\n",
    "\n",
    "src = pikepdf.Pdf.open(str(src_pdf_path))\n",
    "\n",
    "# save the image in each page into a pdf\n",
    "cnt = 0\n",
    "for page in src.pages:\n",
    "    cnt = cnt + 1\n",
    "    out_pdf_prefix = \"original_page_\"+str(cnt)+\"_figure\"\n",
    "    wrap_form_xobject(\n",
    "        page=page,\n",
    "        prefix_name=\"/Im\",\n",
    "        out_pdf_prefix=out_pdf_prefix\n",
    "    )"
   ]
  }
 ],
 "metadata": {
  "kernelspec": {
   "display_name": "openreview",
   "language": "python",
   "name": "python3"
  },
  "language_info": {
   "name": "python",
   "version": "3.10.18"
  }
 },
 "nbformat": 4,
 "nbformat_minor": 5
}
