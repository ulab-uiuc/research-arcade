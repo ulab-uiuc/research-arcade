{
 "cells": [
  {
   "cell_type": "code",
   "execution_count": null,
   "id": "ce9f278c",
   "metadata": {},
   "outputs": [],
   "source": [
    "import sys\n",
    "from pathlib import Path\n",
    "from tqdm import tqdm\n",
    "from research_arcade.research_arcade import ResearchArcade\n",
    "project_root = Path(__file__).resolve().parent.parent\n",
    "sys.path.insert(0, str(project_root))"
   ]
  },
  {
   "cell_type": "markdown",
   "id": "622e1381",
   "metadata": {},
   "source": [
    "## Choose Database Backend"
   ]
  },
  {
   "cell_type": "markdown",
   "id": "6779f1c3",
   "metadata": {},
   "source": [
    "#### CSV Based"
   ]
  },
  {
   "cell_type": "code",
   "execution_count": null,
   "id": "0af14435",
   "metadata": {},
   "outputs": [],
   "source": [
    "db_type = \"csv\"\n",
    "config = {\n",
    "    \"csv_dir\": \"/data/jingjunx/my_research_arcade_data/\"\n",
    "}\n",
    "\n",
    "research_arcade = ResearchArcade(db_type=db_type, config=config)"
   ]
  },
  {
   "cell_type": "markdown",
   "id": "e6352298",
   "metadata": {},
   "source": [
    "#### SQL Based"
   ]
  },
  {
   "cell_type": "code",
   "execution_count": null,
   "id": "2d04122a",
   "metadata": {},
   "outputs": [],
   "source": [
    "db_type = \"sql\"\n",
    "config = {\n",
    "    \"host\": \"localhost\",\n",
    "    \"dbname\": \"iclr_openreview_database\",\n",
    "    \"user\": \"jingjunx\",\n",
    "    \"password\": \"\",\n",
    "    \"port\": \"5432\"\n",
    "}\n",
    "\n",
    "research_arcade = ResearchArcade(db_type=db_type, config=config)"
   ]
  },
  {
   "cell_type": "markdown",
   "id": "5bb4510c",
   "metadata": {},
   "source": [
    "## openreview_authors"
   ]
  },
  {
   "cell_type": "markdown",
   "id": "fd8665d6",
   "metadata": {},
   "source": [
    "#### construct table from api"
   ]
  },
  {
   "cell_type": "code",
   "execution_count": null,
   "id": "a7a6f6e6",
   "metadata": {},
   "outputs": [],
   "source": [
    "config = {\"venue\": \"ICLR.cc/2025/Conference\"}\n",
    "research_arcade.construct_table_from_api(\"openreview_authors\", config)"
   ]
  },
  {
   "cell_type": "markdown",
   "id": "98ea499f",
   "metadata": {},
   "source": [
    "#### construct table from csv"
   ]
  },
  {
   "cell_type": "code",
   "execution_count": null,
   "id": "00facdc0",
   "metadata": {},
   "outputs": [],
   "source": [
    "config = {\"csv_file\": \"/home/jingjunx/openreview_benchmark/Code/paper-crawler/examples/csv_data/csv_openreview_author_example.csv\"}\n",
    "research_arcade.construct_table_from_csv(\"openreview_authors\", config)"
   ]
  },
  {
   "cell_type": "markdown",
   "id": "1efcd951",
   "metadata": {},
   "source": [
    "#### construct table from json"
   ]
  },
  {
   "cell_type": "code",
   "execution_count": null,
   "id": "71e08827",
   "metadata": {},
   "outputs": [],
   "source": [
    "config = {\"json_file\": \"/home/jingjunx/openreview_benchmark/Code/paper-crawler/examples/json_data/json_openreview_author_example.json\"}\n",
    "research_arcade.construct_table_from_json(\"openreview_authors\", config)"
   ]
  },
  {
   "cell_type": "markdown",
   "id": "2301cc72",
   "metadata": {},
   "source": [
    "#### insert node"
   ]
  },
  {
   "cell_type": "code",
   "execution_count": null,
   "id": "b48d61ae",
   "metadata": {},
   "outputs": [],
   "source": [
    "new_author = {'venue': 'ICLR.cc/2025/Conference', \n",
    "              'author_openreview_id': '~ishmam_zabir1', \n",
    "              'author_full_name': 'ishmam zabir', \n",
    "              'email': '****@microsoft.com', \n",
    "              'affiliation': 'Microsoft', \n",
    "              'homepage': 'https://scholar.google.com/citations?user=X7bjzrUAAAAJ&hl=en&oi=ao', \n",
    "              'dblp': ''}\n",
    "research_arcade.insert_node(\"openreview_authors\", node_features=new_author)"
   ]
  },
  {
   "cell_type": "markdown",
   "id": "008ac40c",
   "metadata": {},
   "source": [
    "#### delete specific node by id"
   ]
  },
  {
   "cell_type": "code",
   "execution_count": null,
   "id": "ef4f7b17",
   "metadata": {},
   "outputs": [],
   "source": [
    "author_id = {\"author_openreview_id\": \"~ishmam_zabir1\"}\n",
    "author_features = research_arcade.delete_node_by_id(\"openreview_authors\", author_id)\n",
    "print(author_features.to_dict(orient=\"records\")[0])"
   ]
  },
  {
   "cell_type": "markdown",
   "id": "0badeb41",
   "metadata": {},
   "source": [
    "#### get all nodes"
   ]
  },
  {
   "cell_type": "code",
   "execution_count": null,
   "id": "513f73b9",
   "metadata": {},
   "outputs": [],
   "source": [
    "openreview_authors_df = research_arcade.get_all_node_features(\"openreview_authors\")\n",
    "print(len(openreview_authors_df))"
   ]
  },
  {
   "cell_type": "markdown",
   "id": "1edac08f",
   "metadata": {},
   "source": [
    "#### get specific node by id"
   ]
  },
  {
   "cell_type": "code",
   "execution_count": null,
   "id": "56c479c9",
   "metadata": {},
   "outputs": [],
   "source": [
    "author_id = {\"author_openreview_id\": \"~ishmam_zabir1\"}\n",
    "author_features = research_arcade.get_node_features_by_id(\"openreview_authors\", author_id)\n",
    "print(author_features.to_dict(orient=\"records\")[0])"
   ]
  },
  {
   "cell_type": "markdown",
   "id": "69af8be0",
   "metadata": {},
   "source": [
    "#### update specific node by id"
   ]
  },
  {
   "cell_type": "code",
   "execution_count": null,
   "id": "de6f6467",
   "metadata": {},
   "outputs": [],
   "source": [
    "new_author = {'venue': 'ICLR.cc/2025/Conference', \n",
    "              'author_openreview_id': '~ishmam_zabir1', \n",
    "              'author_full_name': 'ishmam zabir', \n",
    "              'email': '****@microsoft.com', \n",
    "              'affiliation': 'Microsoft', \n",
    "              'homepage': 'https://scholar.google.com/citations?user=X7bjzrUAAAAJ&hl=en&oi=ao', \n",
    "              'dblp': ''}\n",
    "\n",
    "research_arcade.update_node(\"openreview_authors\", node_features=new_author)\n",
    "author_id = {\"author_openreview_id\": \"~ishmam_zabir1\"}"
   ]
  },
  {
   "cell_type": "markdown",
   "id": "953c20d1",
   "metadata": {},
   "source": [
    "## openreview_papers"
   ]
  },
  {
   "cell_type": "markdown",
   "id": "2ddc6248",
   "metadata": {},
   "source": [
    "#### construct table from api"
   ]
  },
  {
   "cell_type": "code",
   "execution_count": null,
   "id": "12a9bdba",
   "metadata": {},
   "outputs": [],
   "source": [
    "config = {\"venue\": \"ICLR.cc/2025/Conference\"}\n",
    "research_arcade.construct_table_from_api(\"openreview_papers\", config)"
   ]
  },
  {
   "cell_type": "markdown",
   "id": "bf6cd198",
   "metadata": {},
   "source": [
    "#### construct table from csv"
   ]
  },
  {
   "cell_type": "code",
   "execution_count": null,
   "id": "981da97b",
   "metadata": {},
   "outputs": [],
   "source": [
    "config = {\"csv_file\": \"/home/jingjunx/openreview_benchmark/Code/paper-crawler/examples/csv_data/csv_openreview_paper_example.csv\"}\n",
    "research_arcade.construct_table_from_csv(\"openreview_papers\", config)"
   ]
  },
  {
   "cell_type": "markdown",
   "id": "c48f1b2f",
   "metadata": {},
   "source": [
    "#### construct table from json"
   ]
  },
  {
   "cell_type": "code",
   "execution_count": null,
   "id": "a0b8fcf1",
   "metadata": {},
   "outputs": [],
   "source": [
    "config = {\"json_file\": \"/home/jingjunx/openreview_benchmark/Code/paper-crawler/examples/json_data/json_openreview_paper_example.json\"}\n",
    "research_arcade.construct_table_from_json(\"openreview_papers\", config)"
   ]
  },
  {
   "cell_type": "markdown",
   "id": "3808a63d",
   "metadata": {},
   "source": [
    "#### insert node"
   ]
  },
  {
   "cell_type": "code",
   "execution_count": null,
   "id": "6030ff2d",
   "metadata": {},
   "outputs": [],
   "source": [
    "paper_features = {'venue': 'ICLR.cc/2025/Conference', \n",
    "                  'paper_openreview_id': 'zGej22CBnS', \n",
    "                  'title': 'Exact Byte-Level Probabilities from Tokenized Language Models for FIM-Tasks and Model Ensembles', \n",
    "                  'abstract': \"Tokenization is associated with many poorly understood shortcomings in language models (LMs), yet remains an important component for long sequence scaling purposes. This work studies  how tokenization impacts  model performance by analyzing and comparing the stochastic behavior of tokenized models with their byte-level, or token-free, counterparts. We discover that, even when the two models are statistically equivalent, their predictive distributions over the next byte can be substantially different, a phenomenon we term as ``tokenization bias''. To fully characterize this phenomenon, we  introduce the Byte-Token Representation Lemma, a framework that establishes a mapping between the learned token distribution and its equivalent byte-level distribution.  From this result, we develop a next-byte sampling algorithm  that eliminates tokenization bias without requiring further training or optimization. In other words, this enables zero-shot conversion of tokenized LMs into statistically equivalent token-free ones. We demonstrate its broad applicability with two use cases: fill-in-the-middle (FIM) tasks and model ensembles. In FIM tasks where input prompts may terminate mid-token, leading to out-of-distribution tokenization, our method mitigates performance degradation and achieves 18\\\\% improvement in FIM coding benchmarks, while consistently outperforming the standard token healing fix. For model ensembles where each model employs a distinct vocabulary, our approach enables seamless integration, resulting in improved performance up to 3.7\\\\% over individual models across various standard baselines in reasoning, knowledge, and coding. Code is available at:https: //github.com/facebookresearch/Exact-Byte-Level-Probabilities-from-Tokenized-LMs.\", \n",
    "                  'paper_decision': 'ICLR 2025 Poster', \n",
    "                  'paper_pdf_link': '/pdf/cdd2212a20c4034029874cba11a05e081bfdb83e.pdf'}\n",
    "research_arcade.insert_node(\"openreview_papers\", node_features=paper_features)"
   ]
  },
  {
   "cell_type": "markdown",
   "id": "4b6054d3",
   "metadata": {},
   "source": [
    "#### delete specific node by id"
   ]
  },
  {
   "cell_type": "code",
   "execution_count": null,
   "id": "441e6582",
   "metadata": {},
   "outputs": [],
   "source": [
    "paper_id = {\"paper_openreview_id\": \"zGej22CBnS\"}\n",
    "paper_features = research_arcade.delete_node_by_id(\"openreview_papers\", paper_id)\n",
    "print(paper_features.to_dict(orient=\"records\")[0])"
   ]
  },
  {
   "cell_type": "markdown",
   "id": "b8d501d7",
   "metadata": {},
   "source": [
    "#### get all nodes"
   ]
  },
  {
   "cell_type": "code",
   "execution_count": null,
   "id": "4dc1600c",
   "metadata": {},
   "outputs": [],
   "source": [
    "openreview_papers_df = research_arcade.get_all_node_features(\"openreview_papers\")\n",
    "print(len(openreview_papers_df))"
   ]
  },
  {
   "cell_type": "markdown",
   "id": "8e2a5cc1",
   "metadata": {},
   "source": [
    "#### get specific node by id"
   ]
  },
  {
   "cell_type": "code",
   "execution_count": null,
   "id": "f2e544ad",
   "metadata": {},
   "outputs": [],
   "source": [
    "paper_id = {\"paper_openreview_id\": \"zGej22CBnS\"}\n",
    "paper_features = research_arcade.get_node_features_by_id(\"openreview_papers\", paper_id)\n",
    "print(paper_features.to_dict(orient=\"records\")[0])"
   ]
  },
  {
   "cell_type": "markdown",
   "id": "debc39fc",
   "metadata": {},
   "source": [
    "#### update specific node by id"
   ]
  },
  {
   "cell_type": "code",
   "execution_count": null,
   "id": "2c6f4e74",
   "metadata": {},
   "outputs": [],
   "source": [
    "new_paper_features = {'venue': 'ICLR.cc/2025/Conference', \n",
    "                  'paper_openreview_id': 'zGej22CBnS', \n",
    "                  'title': 'Exact Byte-Level Probabilities from Tokenized Language Models for FIM-Tasks and Model Ensembles', \n",
    "                  'abstract': \"Tokenization is associated with many poorly understood shortcomings in language models (LMs), yet remains an important component for long sequence scaling purposes. This work studies  how tokenization impacts  model performance by analyzing and comparing the stochastic behavior of tokenized models with their byte-level, or token-free, counterparts. We discover that, even when the two models are statistically equivalent, their predictive distributions over the next byte can be substantially different, a phenomenon we term as ``tokenization bias''. To fully characterize this phenomenon, we  introduce the Byte-Token Representation Lemma, a framework that establishes a mapping between the learned token distribution and its equivalent byte-level distribution.  From this result, we develop a next-byte sampling algorithm  that eliminates tokenization bias without requiring further training or optimization. In other words, this enables zero-shot conversion of tokenized LMs into statistically equivalent token-free ones. We demonstrate its broad applicability with two use cases: fill-in-the-middle (FIM) tasks and model ensembles. In FIM tasks where input prompts may terminate mid-token, leading to out-of-distribution tokenization, our method mitigates performance degradation and achieves 18\\\\% improvement in FIM coding benchmarks, while consistently outperforming the standard token healing fix. For model ensembles where each model employs a distinct vocabulary, our approach enables seamless integration, resulting in improved performance up to 3.7\\\\% over individual models across various standard baselines in reasoning, knowledge, and coding. Code is available at:https: //github.com/facebookresearch/Exact-Byte-Level-Probabilities-from-Tokenized-LMs.\", \n",
    "                  'paper_decision': 'ICLR 2025 Poster', \n",
    "                  'paper_pdf_link': '/pdf/cdd2212a20c4034029874cba11a05e081bfdb83e.pdf'}\n",
    "research_arcade.update_node(\"openreview_papers\", node_features=new_paper_features)"
   ]
  },
  {
   "cell_type": "markdown",
   "id": "dff3dd00",
   "metadata": {},
   "source": [
    "## openreview_reviews"
   ]
  },
  {
   "cell_type": "markdown",
   "id": "95dcd85d",
   "metadata": {},
   "source": [
    "#### construct table from api"
   ]
  },
  {
   "cell_type": "code",
   "execution_count": null,
   "id": "38379f60",
   "metadata": {},
   "outputs": [],
   "source": [
    "config = {\"venue\": \"ICLR.cc/2013/conference\"}\n",
    "research_arcade.construct_table_from_api(\"openreview_reviews\", config)"
   ]
  },
  {
   "cell_type": "markdown",
   "id": "daf7c324",
   "metadata": {},
   "source": [
    "#### construct table from csv"
   ]
  },
  {
   "cell_type": "code",
   "execution_count": null,
   "id": "932abaab",
   "metadata": {},
   "outputs": [],
   "source": [
    "config = {\"csv_file\": \"/home/jingjunx/openreview_benchmark/Code/paper-crawler/examples/csv_data/csv_openreview_review_example.csv\"}\n",
    "research_arcade.construct_table_from_csv(\"openreview_reviews\", config)"
   ]
  },
  {
   "cell_type": "markdown",
   "id": "bf1bddf9",
   "metadata": {},
   "source": [
    "#### construct table from json"
   ]
  },
  {
   "cell_type": "code",
   "execution_count": null,
   "id": "24323766",
   "metadata": {},
   "outputs": [],
   "source": [
    "config = {\"json_file\": \"/home/jingjunx/openreview_benchmark/Code/paper-crawler/examples/json_data/json_openreview_review_example.json\"}\n",
    "research_arcade.construct_table_from_json(\"openreview_reviews\", config)"
   ]
  },
  {
   "cell_type": "markdown",
   "id": "d462caaa",
   "metadata": {},
   "source": [
    "#### insert node"
   ]
  },
  {
   "cell_type": "code",
   "execution_count": null,
   "id": "477aaf07",
   "metadata": {},
   "outputs": [],
   "source": [
    "review_features = {'venue': 'ICLR.cc/2025/Conference', \n",
    "                   'review_openreview_id': 'DHwZxFryth', \n",
    "                   'replyto_openreview_id': 'Yqbllggrmw', \n",
    "                   'writer': 'Authors', \n",
    "                   'title': 'Response by Authors', \n",
    "                   'content': {'Title': 'Response to Reviewer 7i95 (1/2)', 'Comment': '> The method does not improve much in the AlpacaEval 2.0 Score. The author should give a detailed explanation. And why not use metrics like length-controlled win rate?**Response:** Thank you for your careful observation and question. We would like to clarify that we are already using the length-controlled (LC) AlpacaEval 2.0 win-rate metric in our evaluations. We will make this clearer in the table header of Table 3.Regarding the fact that the AlpacaEval 2.0 scores on LLama-3 (8B) do not improve compared to the baselines, we believe this is because our base model, the instruction-finetuned LLama-3 (8B), is already trained to perform exceptionally well in terms of helpfulness, which is the focus of the AlpacaEval benchmark. Additionally, the preference dataset we used, UltraFeedback, may not provide significant further enhancement in the helpfulness aspect. This is supported by the slight decrease observed in the AlpacaEval score for the standard DPO baseline as well (see Table 3, results on LLama-3). Therefore, we think these AlpacaEval 2.0 results on LLama-3 (8B) may not indicate that SAIL is ineffective; it may be simply caused by an ill-suited combination of base model, finetuning dataset, and evaluation benchmark.We also further conducted experiments on the Zephyr (7B) model as the backbone, whose AlpacaEval 2.0 win-rate is lower. We still train on the UltraFeedback preference dataset and the other experiment setups are unchanged. In this experiment, we see a larger improvement of the SAIL method compared to the standard DPO baseline (Zephyr-7B-Beta).|             | AlpacaEval 2.0 (LC) Win-Rate ||--------------------|------------------------------|| Base (Zephyr-7B-SFT-Full) | 6.4 %                        || DPO (Zephyr-7B-Beta)   | 13.2 %                       || SAIL-PP  | 15.9 %                       |> Authors should compare more advanced preference optimization algorithms like ORPO and SimPO. And current results are not impressive for the alignment community.**Response:** Thank you for raising this insightful point. We see ORPO and SimPO are two recent work which propose a different objective than the standard RLHF, and achieve remarkable improvements in terms of alignment performance and efficiency.Our work focus more on bringing standard RLHF to a bilevel optimization framework and propose an effective and efficient approximate algorithm on top of it. We can see some new preference optimization methods including ORPO and SimPO have one fundamental difference from our approach: they do not explicitly incorporate the KL regularization term. The absence of the KL regularization term allows these methods to optimize more aggressively for the reward function by deviating significantly from the reference model. In contrast, our approach is specifically grounded in the standard RLHF, where the KL regularization term ensures that the model remains aligned with the reference distribution while optimizing for the reward function. This distinction makes direct comparisons with ORPO or SimPO less meaningful theoretically, as those methods omit the KL regularization and adopt a fundamentally different optimization objective design.However, we think our work, although developed adhering to the standard RLHF setup, can be compatible and combined with some recent advanced preference optimization algorithms, despite their differences in optimization setups and objectives. This is because we can reformulate their alignment problem as bilevel optimization, and go through the derivation as done in the paper. Taking SimPO as an example, we can treat their reward model definition (Equation (4) in the SimPO paper) as the solution of the upper level optimization (replacing Equation (4) in our manuscript), and adopt their modified Bradley-Terry objective with reward margin (Equation (5) in the SimPO paper) to replace the standard one (Equation (10) in our manuscript). By applying these changes and rederiving the extra gradient terms, we can formulate an adaptation of our method to the SimPO objective. We will implement this combined algorithm, which adapt our methodology to the SimPO objective, and compare with the SimPO as a baseline.Recently many different alignment objectives and algorithms have emerged; it is an interesting question to discuss the compatibility and combination of our method with each objective. We will add more relevant discussions to the appendices, but due to the fact that the compatibility problem with each design is a non-trivial question, this process may incur considerably more work, and we hope the reviewer understands that this effort cannot be fully reflected by the rebuttal period. But we will continue to expand the discussion as the wide compatibility to other designs also strengthens our contribution to the community. We thank the reviewer for raising this insightful point.'}, \n",
    "                   'time': '2024-11-26 15:27:26'\n",
    "}\n",
    "research_arcade.insert_node(\"openreview_reviews\", node_features=review_features)"
   ]
  },
  {
   "cell_type": "markdown",
   "id": "89f2d6dc",
   "metadata": {},
   "source": [
    "#### delete specific node by id"
   ]
  },
  {
   "cell_type": "code",
   "execution_count": null,
   "id": "b505f190",
   "metadata": {},
   "outputs": [],
   "source": [
    "review_id = {\"review_openreview_id\": \"DHwZxFryth\"}\n",
    "review_features = research_arcade.delete_node_by_id(\"openreview_reviews\", review_id)\n",
    "print(review_features.to_dict(orient=\"records\")[0])"
   ]
  },
  {
   "cell_type": "markdown",
   "id": "ef313c52",
   "metadata": {},
   "source": [
    "#### get all nodes"
   ]
  },
  {
   "cell_type": "code",
   "execution_count": null,
   "id": "c127d3b0",
   "metadata": {},
   "outputs": [],
   "source": [
    "openreview_reviews_df = research_arcade.get_all_node_features(\"openreview_reviews\")\n",
    "print(len(openreview_reviews_df))"
   ]
  },
  {
   "cell_type": "markdown",
   "id": "a79dff0d",
   "metadata": {},
   "source": [
    "#### get specific node by id"
   ]
  },
  {
   "cell_type": "code",
   "execution_count": null,
   "id": "a440d1c6",
   "metadata": {},
   "outputs": [],
   "source": [
    "review_id = {\"review_openreview_id\": \"DHwZxFryth\"}\n",
    "review_features = research_arcade.get_node_features_by_id(\"openreview_reviews\", review_id)\n",
    "print(review_features.to_dict(orient=\"records\")[0])"
   ]
  },
  {
   "cell_type": "markdown",
   "id": "c9b77630",
   "metadata": {},
   "source": [
    "#### update specific node by id"
   ]
  },
  {
   "cell_type": "code",
   "execution_count": null,
   "id": "98a24c60",
   "metadata": {},
   "outputs": [],
   "source": [
    "new_review_features = {'venue': 'ICLR.cc/2025/Conference', \n",
    "                   'review_openreview_id': 'DHwZxFryth', \n",
    "                   'replyto_openreview_id': 'Yqbllggrmw', \n",
    "                   'writer': 'Authors', \n",
    "                   'title': 'Response by Authors', \n",
    "                   'content': {'Title': 'Response to Reviewer 7i95 (1/2)', 'Comment': '> The method does not improve much in the AlpacaEval 2.0 Score. The author should give a detailed explanation. And why not use metrics like length-controlled win rate?**Response:** Thank you for your careful observation and question. We would like to clarify that we are already using the length-controlled (LC) AlpacaEval 2.0 win-rate metric in our evaluations. We will make this clearer in the table header of Table 3.Regarding the fact that the AlpacaEval 2.0 scores on LLama-3 (8B) do not improve compared to the baselines, we believe this is because our base model, the instruction-finetuned LLama-3 (8B), is already trained to perform exceptionally well in terms of helpfulness, which is the focus of the AlpacaEval benchmark. Additionally, the preference dataset we used, UltraFeedback, may not provide significant further enhancement in the helpfulness aspect. This is supported by the slight decrease observed in the AlpacaEval score for the standard DPO baseline as well (see Table 3, results on LLama-3). Therefore, we think these AlpacaEval 2.0 results on LLama-3 (8B) may not indicate that SAIL is ineffective; it may be simply caused by an ill-suited combination of base model, finetuning dataset, and evaluation benchmark.We also further conducted experiments on the Zephyr (7B) model as the backbone, whose AlpacaEval 2.0 win-rate is lower. We still train on the UltraFeedback preference dataset and the other experiment setups are unchanged. In this experiment, we see a larger improvement of the SAIL method compared to the standard DPO baseline (Zephyr-7B-Beta).|             | AlpacaEval 2.0 (LC) Win-Rate ||--------------------|------------------------------|| Base (Zephyr-7B-SFT-Full) | 6.4 %                        || DPO (Zephyr-7B-Beta)   | 13.2 %                       || SAIL-PP  | 15.9 %                       |> Authors should compare more advanced preference optimization algorithms like ORPO and SimPO. And current results are not impressive for the alignment community.**Response:** Thank you for raising this insightful point. We see ORPO and SimPO are two recent work which propose a different objective than the standard RLHF, and achieve remarkable improvements in terms of alignment performance and efficiency.Our work focus more on bringing standard RLHF to a bilevel optimization framework and propose an effective and efficient approximate algorithm on top of it. We can see some new preference optimization methods including ORPO and SimPO have one fundamental difference from our approach: they do not explicitly incorporate the KL regularization term. The absence of the KL regularization term allows these methods to optimize more aggressively for the reward function by deviating significantly from the reference model. In contrast, our approach is specifically grounded in the standard RLHF, where the KL regularization term ensures that the model remains aligned with the reference distribution while optimizing for the reward function. This distinction makes direct comparisons with ORPO or SimPO less meaningful theoretically, as those methods omit the KL regularization and adopt a fundamentally different optimization objective design.However, we think our work, although developed adhering to the standard RLHF setup, can be compatible and combined with some recent advanced preference optimization algorithms, despite their differences in optimization setups and objectives. This is because we can reformulate their alignment problem as bilevel optimization, and go through the derivation as done in the paper. Taking SimPO as an example, we can treat their reward model definition (Equation (4) in the SimPO paper) as the solution of the upper level optimization (replacing Equation (4) in our manuscript), and adopt their modified Bradley-Terry objective with reward margin (Equation (5) in the SimPO paper) to replace the standard one (Equation (10) in our manuscript). By applying these changes and rederiving the extra gradient terms, we can formulate an adaptation of our method to the SimPO objective. We will implement this combined algorithm, which adapt our methodology to the SimPO objective, and compare with the SimPO as a baseline.Recently many different alignment objectives and algorithms have emerged; it is an interesting question to discuss the compatibility and combination of our method with each objective. We will add more relevant discussions to the appendices, but due to the fact that the compatibility problem with each design is a non-trivial question, this process may incur considerably more work, and we hope the reviewer understands that this effort cannot be fully reflected by the rebuttal period. But we will continue to expand the discussion as the wide compatibility to other designs also strengthens our contribution to the community. We thank the reviewer for raising this insightful point.'}, \n",
    "                   'time': '2024-11-26 15:27:26'\n",
    "}\n",
    "research_arcade.update_node(\"openreview_reviews\", node_features=new_review_features)"
   ]
  },
  {
   "cell_type": "markdown",
   "id": "1dd9a7f1",
   "metadata": {},
   "source": [
    "## openreview_revisions"
   ]
  },
  {
   "cell_type": "markdown",
   "id": "703ea91b",
   "metadata": {},
   "source": [
    "#### construct table from api"
   ]
  },
  {
   "cell_type": "markdown",
   "id": "f4b6de92",
   "metadata": {},
   "source": [
    "##### get pdfs"
   ]
  },
  {
   "cell_type": "code",
   "execution_count": null,
   "id": "5295829c",
   "metadata": {},
   "outputs": [],
   "source": [
    "from .get_pdfs import get_paper_pdf, get_revision_pdf\n",
    "import os\n",
    "import openreview\n",
    "import time\n",
    "\n",
    "client_v1 = openreview.Client(baseurl='https://api.openreview.net')\n",
    "client_v2 = openreview.api.OpenReviewClient(baseurl='https://api2.openreview.net')\n",
    "\n",
    "venue = 'ICLR.cc/2017/conference'\n",
    "pdf_dir = \"/data/jingjunx/openreview_pdfs_2017/\"\n",
    "log_file = \"./download_failed_ids_revisions_2017.log\"\n",
    "start_idx = 0\n",
    "end_idx = 5"
   ]
  },
  {
   "cell_type": "code",
   "execution_count": null,
   "id": "f24ee9bd",
   "metadata": {},
   "outputs": [],
   "source": [
    "if \"2023\" in venue or \"2022\" in venue or \"2021\" in venue or \"2020\" in venue or \"2019\" in venue or \"2018\" in venue or \"2017\" in venue or \"2014\" in venue or \"2013\" in venue:\n",
    "    if \"2023\" in venue or \"2022\" in venue or \"2021\" in venue or \"2020\" in venue or \"2019\" in venue or \"2018\" in venue:\n",
    "        submissions = client_v1.get_all_notes(invitation=f'{venue}/-/Blind_Submission', details='revisions')\n",
    "    elif \"2017\" in venue or \"2014\" in venue or \"2013\" in venue:\n",
    "        submissions = client_v1.get_all_notes(invitation=f'{venue}/-/submission', details='revisions')\n",
    "        \n",
    "    if submissions is None:\n",
    "        print(f\"No submissions found for venue: {venue}\")\n",
    "    else:\n",
    "        for submission in tqdm(submissions[start_idx:end_idx]):\n",
    "            # get paper openreview id\n",
    "            paper_id = submission.id\n",
    "            if \"pdf\" in submission.content:\n",
    "                pdf_link = submission.content[\"pdf\"]\n",
    "                pdf_path = str(pdf_dir)+str(paper_id)+\".pdf\"\n",
    "                if os.path.isfile(pdf_path):\n",
    "                    continue\n",
    "                else:\n",
    "                    get_paper_pdf(pdf_link, pdf_path, log_file)\n",
    "            \n",
    "            revisions = client_v1.get_references(referent=paper_id, original=True)\n",
    "            time.sleep(1)\n",
    "            \n",
    "            pdf_revisions_ids = []\n",
    "            for revision in revisions:\n",
    "                if \"pdf\" in revision.content:\n",
    "                    pdf_revisions_ids.append(revision.id)\n",
    "            \n",
    "            if len(pdf_revisions_ids) <= 1:\n",
    "                continue\n",
    "            else:\n",
    "                for pdf_revision_id in pdf_revisions_ids:\n",
    "                    pdf_path = str(pdf_dir)+str(pdf_revision_id)+\".pdf\"\n",
    "                    if os.path.isfile(pdf_path):\n",
    "                        continue\n",
    "                    else:\n",
    "                        get_revision_pdf(venue, pdf_revision_id, pdf_path, log_file)\n",
    "                        time.sleep(1)\n",
    "else:\n",
    "    submissions = client_v2.get_all_notes(invitation=f'{venue}/-/Submission', details='revisions')\n",
    "    if submissions is None:\n",
    "        print(f\"No submissions found for venue: {venue}\")\n",
    "    else:\n",
    "        for submission in tqdm(submissions[start_idx:end_idx]):\n",
    "            decision = submission.content[\"venueid\"][\"value\"].split('/')[-1]\n",
    "            if decision == \"Withdrawn_Submission\":\n",
    "                continue\n",
    "            else:\n",
    "                # get paper openreview id\n",
    "                paper_id = submission.id\n",
    "                if \"pdf\" in submission.content:\n",
    "                    pdf_link = submission.content[\"pdf\"][\"value\"]\n",
    "                    pdf_path = str(pdf_dir)+str(paper_id)+\".pdf\"\n",
    "                    if os.path.isfile(pdf_path):\n",
    "                        continue\n",
    "                    else:\n",
    "                        get_paper_pdf(pdf_link, pdf_path, log_file)\n",
    "                        \n",
    "                revisions = client_v2.get_note_edits(note_id=paper_id)\n",
    "                if len(revisions) <= 1:\n",
    "                    continue\n",
    "                else:\n",
    "                    for revision in revisions:\n",
    "                        pdf_revision_id = revision.id\n",
    "                        pdf_path = str(pdf_dir)+str(pdf_revision_id)+\".pdf\"\n",
    "                        if os.path.isfile(pdf_path):\n",
    "                            continue\n",
    "                        else:\n",
    "                            time.sleep(1)\n",
    "                            get_revision_pdf(venue, pdf_revision_id, pdf_path, log_file)\n",
    "                            time.sleep(1)"
   ]
  },
  {
   "cell_type": "markdown",
   "id": "1b480a76",
   "metadata": {},
   "source": [
    "#### construct the table"
   ]
  },
  {
   "cell_type": "code",
   "execution_count": null,
   "id": "9dc165be",
   "metadata": {},
   "outputs": [],
   "source": [
    "venue = \"ICLR.cc/2017/conference\"\n",
    "filter_list = [\"Under review as a conference paper at ICLR 2017\", \"Published as a conference paper at ICLR 2017\"]\n",
    "pdf_dir = \"/data/jingjunx/openreview_pdfs_2017/\"\n",
    "log_file = \"./log/failed_ids_revisions_2017.log\"\n",
    "config = {\"venue\": venue, \"filter_list\": filter_list, \"pdf_dir\": pdf_dir, \"log_file\": log_file}\n",
    "research_arcade.construct_table_from_api(\"openreview_revisions\", config)"
   ]
  },
  {
   "cell_type": "markdown",
   "id": "e09e38e7",
   "metadata": {},
   "source": [
    "#### construct table from csv"
   ]
  },
  {
   "cell_type": "code",
   "execution_count": null,
   "id": "da2d35f6",
   "metadata": {},
   "outputs": [],
   "source": [
    "config = {\"csv_file\": \"/home/jingjunx/openreview_benchmark/Code/paper-crawler/examples/csv_data/csv_openreview_revision_example.csv\"}\n",
    "research_arcade.construct_table_from_csv(\"openreview_revisions\", config)"
   ]
  },
  {
   "cell_type": "markdown",
   "id": "a5464f3b",
   "metadata": {},
   "source": [
    "#### construct table from json"
   ]
  },
  {
   "cell_type": "code",
   "execution_count": null,
   "id": "59d90e06",
   "metadata": {},
   "outputs": [],
   "source": [
    "config = {\"json_file\": \"/home/jingjunx/openreview_benchmark/Code/paper-crawler/examples/json_data/json_openreview_revision_example.json\"}\n",
    "research_arcade.construct_table_from_json(\"openreview_revisions\", config)"
   ]
  },
  {
   "cell_type": "markdown",
   "id": "d72bcfad",
   "metadata": {},
   "source": [
    "#### insert node"
   ]
  },
  {
   "cell_type": "code",
   "execution_count": null,
   "id": "eaecbbea",
   "metadata": {},
   "outputs": [],
   "source": [
    "revision_feature = {'venue': 'ICLR.cc/2025/Conference', \n",
    "                    'original_openreview_id': 'pbTVNlX8Ig', \n",
    "                    'revision_openreview_id': 'yfHQOp5zWc', \n",
    "                    'content': [{'section': '1 INTRODUCTION', \n",
    "                                 'after_section': None, \n",
    "                                 'context_after': '2 RELATED WORK ', \n",
    "                                 'paragraph_idx': 9, \n",
    "                                 'before_section': None, \n",
    "                                 'context_before': 'Published as a conference paper at ICLR 2025 tograd system in PyTorch, specifically tailored for our experimental setup, which is available at ', \n",
    "                                 'modified_lines': 'https://github.com/stephane-rivaud/PETRA. ', \n",
    "                                 'original_lines': 'https://github.com/streethagore/PETRA. ', \n",
    "                                 'after_paragraph_idx': None, \n",
    "                                 'before_paragraph_idx': None}], \n",
    "                    'time': '2025-03-14 15:35:37'}\n",
    "research_arcade.insert_node(\"openreview_revisions\", node_features=revision_feature)"
   ]
  },
  {
   "cell_type": "markdown",
   "id": "032e9934",
   "metadata": {},
   "source": [
    "#### delete specific node by id"
   ]
  },
  {
   "cell_type": "code",
   "execution_count": null,
   "id": "fbb02146",
   "metadata": {},
   "outputs": [],
   "source": [
    "revision_id = {\"revision_openreview_id\": \"yfHQOp5zWc\"}\n",
    "revision_feature = research_arcade.delete_node_by_id(\"openreview_revisions\", revision_id)\n",
    "print(revision_feature.to_dict(orient=\"records\")[0])"
   ]
  },
  {
   "cell_type": "markdown",
   "id": "7d88deaf",
   "metadata": {},
   "source": [
    "#### get all nodes"
   ]
  },
  {
   "cell_type": "code",
   "execution_count": null,
   "id": "08d02462",
   "metadata": {},
   "outputs": [],
   "source": [
    "openreview_revisions_df = research_arcade.get_all_node_features(\"openreview_revisions\")\n",
    "print(len(openreview_revisions_df))"
   ]
  },
  {
   "cell_type": "markdown",
   "id": "3383ce74",
   "metadata": {},
   "source": [
    "#### get specific node by id"
   ]
  },
  {
   "cell_type": "code",
   "execution_count": null,
   "id": "8b748a79",
   "metadata": {},
   "outputs": [],
   "source": [
    "revision_id = {\"revision_openreview_id\": \"yfHQOp5zWc\"}\n",
    "revision_feature = research_arcade.get_node_features_by_id(\"openreview_revisions\", revision_id)\n",
    "print(revision_feature.to_dict(orient=\"records\")[0])"
   ]
  },
  {
   "cell_type": "markdown",
   "id": "b19c7c2d",
   "metadata": {},
   "source": [
    "#### update specific node by id"
   ]
  },
  {
   "cell_type": "code",
   "execution_count": null,
   "id": "8a945848",
   "metadata": {},
   "outputs": [],
   "source": [
    "new_revision_features = {'venue': 'ICLR.cc/2025/Conference', \n",
    "                    'original_openreview_id': 'pbTVNlX8Ig', \n",
    "                    'revision_openreview_id': 'yfHQOp5zWc', \n",
    "                    'content': [{'section': '1 INTRODUCTION', \n",
    "                                 'after_section': None, \n",
    "                                 'context_after': '2 RELATED WORK ', \n",
    "                                 'paragraph_idx': 9, \n",
    "                                 'before_section': None, \n",
    "                                 'context_before': 'Published as a conference paper at ICLR 2025 tograd system in PyTorch, specifically tailored for our experimental setup, which is available at ', \n",
    "                                 'modified_lines': 'https://github.com/stephane-rivaud/PETRA. ', \n",
    "                                 'original_lines': 'https://github.com/streethagore/PETRA. ', \n",
    "                                 'after_paragraph_idx': None, \n",
    "                                 'before_paragraph_idx': None}], \n",
    "                    'time': '2025-03-14 15:35:37'}\n",
    "research_arcade.update_node(\"openreview_revisions\", node_features=new_revision_features)"
   ]
  },
  {
   "cell_type": "markdown",
   "id": "c3ae2e8b",
   "metadata": {},
   "source": [
    "## openreview_paragraphs"
   ]
  },
  {
   "cell_type": "markdown",
   "id": "a0e7f2be",
   "metadata": {},
   "source": [
    "#### construct table from api"
   ]
  },
  {
   "cell_type": "markdown",
   "id": "67a98817",
   "metadata": {},
   "source": [
    "##### get pdfs"
   ]
  },
  {
   "cell_type": "code",
   "execution_count": null,
   "id": "760ba108",
   "metadata": {},
   "outputs": [],
   "source": [
    "from .get_pdfs import get_paper_pdf, get_revision_pdf\n",
    "import os\n",
    "import openreview\n",
    "from tqdm import tqdm\n",
    "import time\n",
    "\n",
    "client_v1 = openreview.Client(baseurl='https://api.openreview.net')\n",
    "client_v2 = openreview.api.OpenReviewClient(baseurl='https://api2.openreview.net')\n",
    "\n",
    "venue = 'ICLR.cc/2025/Conference'\n",
    "pdf_dir = \"/data/jingjunx/openreview_pdfs_2025/\"\n",
    "log_file = \"./download_failed_ids_revisions_2025.log\"\n",
    "start_idx = 0\n",
    "end_idx = 5"
   ]
  },
  {
   "cell_type": "code",
   "execution_count": null,
   "id": "788b4db2",
   "metadata": {},
   "outputs": [],
   "source": [
    "if \"2023\" in venue or \"2022\" in venue or \"2021\" in venue or \"2020\" in venue or \"2019\" in venue or \"2018\" in venue or \"2017\" in venue or \"2014\" in venue or \"2013\" in venue:\n",
    "    if \"2023\" in venue or \"2022\" in venue or \"2021\" in venue or \"2020\" in venue or \"2019\" in venue or \"2018\" in venue:\n",
    "        submissions = client_v1.get_all_notes(invitation=f'{venue}/-/Blind_Submission', details='revisions')\n",
    "    elif \"2017\" in venue or \"2014\" in venue or \"2013\" in venue:\n",
    "        submissions = client_v1.get_all_notes(invitation=f'{venue}/-/submission', details='revisions')\n",
    "        \n",
    "    if submissions is None:\n",
    "        print(f\"No submissions found for venue: {venue}\")\n",
    "    else:\n",
    "        for submission in tqdm(submissions[start_idx:end_idx]):\n",
    "            # get paper openreview id\n",
    "            paper_id = submission.id\n",
    "            if \"pdf\" in submission.content:\n",
    "                pdf_link = submission.content[\"pdf\"]\n",
    "                pdf_path = str(pdf_dir)+str(paper_id)+\".pdf\"\n",
    "                if os.path.isfile(pdf_path):\n",
    "                    continue\n",
    "                else:\n",
    "                    get_paper_pdf(pdf_link, pdf_path, log_file)\n",
    "            \n",
    "            revisions = client_v1.get_references(referent=paper_id, original=True)\n",
    "            time.sleep(1)\n",
    "            \n",
    "            pdf_revisions_ids = []\n",
    "            for revision in revisions:\n",
    "                if \"pdf\" in revision.content:\n",
    "                    pdf_revisions_ids.append(revision.id)\n",
    "            \n",
    "            if len(pdf_revisions_ids) <= 1:\n",
    "                continue\n",
    "            else:\n",
    "                for pdf_revision_id in pdf_revisions_ids:\n",
    "                    pdf_path = str(pdf_dir)+str(pdf_revision_id)+\".pdf\"\n",
    "                    if os.path.isfile(pdf_path):\n",
    "                        continue\n",
    "                    else:\n",
    "                        get_revision_pdf(venue, pdf_revision_id, pdf_path, log_file)\n",
    "                        time.sleep(1)\n",
    "else:\n",
    "    submissions = client_v2.get_all_notes(invitation=f'{venue}/-/Submission', details='revisions')\n",
    "    if submissions is None:\n",
    "        print(f\"No submissions found for venue: {venue}\")\n",
    "    else:\n",
    "        for submission in tqdm(submissions[start_idx:end_idx]):\n",
    "            decision = submission.content[\"venueid\"][\"value\"].split('/')[-1]\n",
    "            if decision == \"Withdrawn_Submission\":\n",
    "                continue\n",
    "            else:\n",
    "                # get paper openreview id\n",
    "                paper_id = submission.id\n",
    "                if \"pdf\" in submission.content:\n",
    "                    pdf_link = submission.content[\"pdf\"][\"value\"]\n",
    "                    pdf_path = str(pdf_dir)+str(paper_id)+\".pdf\"\n",
    "                    if os.path.isfile(pdf_path):\n",
    "                        continue\n",
    "                    else:\n",
    "                        get_paper_pdf(pdf_link, pdf_path, log_file)\n",
    "                        \n",
    "                revisions = client_v2.get_note_edits(note_id=paper_id)\n",
    "                if len(revisions) <= 1:\n",
    "                    continue\n",
    "                else:\n",
    "                    for revision in revisions:\n",
    "                        pdf_revision_id = revision.id\n",
    "                        pdf_path = str(pdf_dir)+str(pdf_revision_id)+\".pdf\"\n",
    "                        if os.path.isfile(pdf_path):\n",
    "                            continue\n",
    "                        else:\n",
    "                            time.sleep(1)\n",
    "                            get_revision_pdf(venue, pdf_revision_id, pdf_path, log_file)\n",
    "                            time.sleep(1)"
   ]
  },
  {
   "cell_type": "markdown",
   "id": "7e699b0a",
   "metadata": {},
   "source": [
    "##### construct the table"
   ]
  },
  {
   "cell_type": "code",
   "execution_count": null,
   "id": "de3a1a9e",
   "metadata": {},
   "outputs": [],
   "source": [
    "venue = \"ICLR.cc/2025/Conference\"\n",
    "filter_list = [\"Under review as a conference paper at ICLR 2025\", \"Published as a conference paper at ICLR 2025\"]\n",
    "pdf_dir = \"/data/jingjunx/openreview_pdfs_2025/\"\n",
    "log_file = \"./log/failed_ids_revisions_2025.log\"\n",
    "config = {\"venue\": venue, \"filter_list\": filter_list, \"pdf_dir\": pdf_dir, \"log_file\": log_file, \"is_paper\": True, \"is_revision\": True, \"is_pdf_delete\": False}\n",
    "research_arcade.construct_table_from_api(\"openreview_paragraphs\", config)"
   ]
  },
  {
   "cell_type": "markdown",
   "id": "aba41ea1",
   "metadata": {},
   "source": [
    "#### construct table from csv"
   ]
  },
  {
   "cell_type": "code",
   "execution_count": null,
   "id": "bae71acc",
   "metadata": {},
   "outputs": [],
   "source": [
    "config = {\"csv_file\": \"/home/jingjunx/openreview_benchmark/Code/paper-crawler/examples/csv_data/csv_openreview_paragraphs_example.csv\"}\n",
    "research_arcade.construct_table_from_csv(\"openreview_paragraphs\", config)"
   ]
  },
  {
   "cell_type": "markdown",
   "id": "d518ea2c",
   "metadata": {},
   "source": [
    "#### construct table from json"
   ]
  },
  {
   "cell_type": "code",
   "execution_count": null,
   "id": "7f2a0054",
   "metadata": {},
   "outputs": [],
   "source": [
    "config = {\"json_file\": \"/home/jingjunx/openreview_benchmark/Code/paper-crawler/examples/json_data/json_openreview_paragraphs_example.json\"}\n",
    "research_arcade.construct_table_from_json(\"openreview_paragraphs\", config)"
   ]
  },
  {
   "cell_type": "markdown",
   "id": "dda0fdb1",
   "metadata": {},
   "source": [
    "#### insert node"
   ]
  },
  {
   "cell_type": "code",
   "execution_count": null,
   "id": "bceb66f8",
   "metadata": {},
   "outputs": [],
   "source": [
    "paragraph_feature = {'venue': 'xujj_test', \n",
    "                    'paper_openreview_id': 'xujj_test', \n",
    "                    'paragraph_idx': 1, \n",
    "                    'section': \"xujj_test\", \n",
    "                    'content': \"xujj_test\"}\n",
    "research_arcade.insert_node(\"openreview_paragraphs\", node_features=paragraph_feature)"
   ]
  },
  {
   "cell_type": "markdown",
   "id": "121ca021",
   "metadata": {},
   "source": [
    "#### delete specific node by id"
   ]
  },
  {
   "cell_type": "code",
   "execution_count": null,
   "id": "f9467f07",
   "metadata": {},
   "outputs": [],
   "source": [
    "paper_id = {\"paper_openreview_id\": \"xujj_test\"}\n",
    "paragraph_feature = research_arcade.delete_node_by_id(\"openreview_paragraphs\", paper_id)\n",
    "print(len(paragraph_feature))\n",
    "print(paragraph_feature.to_dict(orient=\"records\")[0])"
   ]
  },
  {
   "cell_type": "markdown",
   "id": "34173e7d",
   "metadata": {},
   "source": [
    "#### get all nodes"
   ]
  },
  {
   "cell_type": "code",
   "execution_count": null,
   "id": "f82b7ece",
   "metadata": {},
   "outputs": [],
   "source": [
    "openreview_paragraphs_df = research_arcade.get_all_node_features(\"openreview_paragraphs\")\n",
    "print(len(openreview_paragraphs_df))"
   ]
  },
  {
   "cell_type": "markdown",
   "id": "e9e6973e",
   "metadata": {},
   "source": [
    "#### get specific node by id"
   ]
  },
  {
   "cell_type": "code",
   "execution_count": null,
   "id": "5208ab0a",
   "metadata": {},
   "outputs": [],
   "source": [
    "paper_id = {\"paper_openreview_id\": \"ryxB0Rtxx\"}\n",
    "paragraph_feature = research_arcade.get_node_features_by_id(\"openreview_paragraphs\", paper_id)\n",
    "print(paragraph_feature.to_dict(orient=\"records\")[0])"
   ]
  },
  {
   "cell_type": "markdown",
   "id": "084e3495",
   "metadata": {},
   "source": [
    "## openreview_arxiv"
   ]
  },
  {
   "cell_type": "markdown",
   "id": "d651b5e3",
   "metadata": {},
   "source": [
    "#### construct table from api"
   ]
  },
  {
   "cell_type": "code",
   "execution_count": null,
   "id": "623fb599",
   "metadata": {},
   "outputs": [],
   "source": [
    "config = {\"venue\": \"ICLR.cc/2017/conference\"}\n",
    "research_arcade.construct_table_from_api(\"openreview_arxiv\", config)"
   ]
  },
  {
   "cell_type": "markdown",
   "id": "6874601b",
   "metadata": {},
   "source": [
    "#### construct table from csv"
   ]
  },
  {
   "cell_type": "code",
   "execution_count": null,
   "id": "743590ab",
   "metadata": {},
   "outputs": [],
   "source": [
    "config = {\"csv_file\": \"/home/jingjunx/openreview_benchmark/Code/paper-crawler/examples/csv_data/csv_openreview_arxiv_example.csv\"}\n",
    "research_arcade.construct_table_from_csv(\"openreview_arxiv\", config)"
   ]
  },
  {
   "cell_type": "markdown",
   "id": "0f4521ee",
   "metadata": {},
   "source": [
    "#### construct table from json"
   ]
  },
  {
   "cell_type": "code",
   "execution_count": null,
   "id": "fa1f89b8",
   "metadata": {},
   "outputs": [],
   "source": [
    "config = {\"json_file\": \"/home/jingjunx/openreview_benchmark/Code/paper-crawler/examples/json_data/json_openreview_arxiv_example.json\"}\n",
    "research_arcade.construct_table_from_json(\"openreview_arxiv\", config)"
   ]
  },
  {
   "cell_type": "markdown",
   "id": "0e577ec2",
   "metadata": {},
   "source": [
    "#### insert edge"
   ]
  },
  {
   "cell_type": "code",
   "execution_count": null,
   "id": "16deb344",
   "metadata": {},
   "outputs": [],
   "source": [
    "openreview_arxiv = {'venue': 'ICLR.cc/2025/Conference', \n",
    "                    'paper_openreview_id': 'zkNCWtw2fd', \n",
    "                    'arxiv_id': 'http://arxiv.org/abs/2408.10536v1', \n",
    "                    'title': 'Synergistic Approach for Simultaneous Optimization of Monolingual, Cross-lingual, and Multilingual Information Retrieval'\n",
    "}\n",
    "research_arcade.insert_edge(\"openreview_arxiv\", openreview_arxiv)"
   ]
  },
  {
   "cell_type": "markdown",
   "id": "6948e86a",
   "metadata": {},
   "source": [
    "#### delete specific edge by id"
   ]
  },
  {
   "cell_type": "code",
   "execution_count": null,
   "id": "dcc7f437",
   "metadata": {},
   "outputs": [],
   "source": [
    "openreview_id = {\"paper_openreview_id\": \"zkNCWtw2fd\"}\n",
    "openreview_arxiv_df = research_arcade.delete_edge_by_id(\"openreview_arxiv\", openreview_id)\n",
    "print(openreview_arxiv_df.to_dict(orient=\"records\")[0])\n",
    "\n",
    "arxiv_id = {\"arxiv_id\": \"http://arxiv.org/abs/2408.10536v1\"}\n",
    "openreview_arxiv_df = research_arcade.delete_edge_by_id(\"openreview_arxiv\", arxiv_id)\n",
    "print(openreview_arxiv_df.to_dict(orient=\"records\")[0])\n",
    "\n",
    "openreview_arxiv_id = {\"paper_openreview_id\": \"zkNCWtw2fd\", \"arxiv_id\": \"http://arxiv.org/abs/2408.10536v1\"}\n",
    "openreview_arxiv_df = research_arcade.delete_edge_by_id(\"openreview_arxiv\", openreview_arxiv_id)\n",
    "print(openreview_arxiv_df.to_dict(orient=\"records\")[0])"
   ]
  },
  {
   "cell_type": "markdown",
   "id": "0e8a48b7",
   "metadata": {},
   "source": [
    "#### get all edges"
   ]
  },
  {
   "cell_type": "code",
   "execution_count": null,
   "id": "6c076926",
   "metadata": {},
   "outputs": [],
   "source": [
    "openreview_arxiv_df = research_arcade.get_all_edge_features(\"openreview_arxiv\")\n",
    "print(len(openreview_arxiv_df))"
   ]
  },
  {
   "cell_type": "markdown",
   "id": "94f938cc",
   "metadata": {},
   "source": [
    "#### get neighborhood by id"
   ]
  },
  {
   "cell_type": "code",
   "execution_count": null,
   "id": "3d86236b",
   "metadata": {},
   "outputs": [],
   "source": [
    "openreview_id = {\"paper_openreview_id\": \"zkNCWtw2fd\"}\n",
    "openreview_arxiv_df = research_arcade.get_neighborhood(\"openreview_arxiv\", openreview_id)\n",
    "print(openreview_arxiv_df.to_dict(orient=\"records\")[0])\n",
    "\n",
    "arxiv_id = {\"arxiv_id\": \"http://arxiv.org/abs/2408.10536v1\"}\n",
    "openreview_arxiv_df = research_arcade.get_neighborhood(\"openreview_arxiv\", arxiv_id)\n",
    "print(openreview_arxiv_df.to_dict(orient=\"records\")[0])"
   ]
  },
  {
   "cell_type": "markdown",
   "id": "03795c8d",
   "metadata": {},
   "source": [
    "## openreview_papers_authors"
   ]
  },
  {
   "cell_type": "markdown",
   "id": "1e0e5be0",
   "metadata": {},
   "source": [
    "#### construct table from api"
   ]
  },
  {
   "cell_type": "code",
   "execution_count": null,
   "id": "7dbe3ae2",
   "metadata": {},
   "outputs": [],
   "source": [
    "config = {\"venue\": \"ICLR.cc/2025/Conference\"}\n",
    "research_arcade.construct_table_from_api(\"openreview_papers_authors\", config)"
   ]
  },
  {
   "cell_type": "markdown",
   "id": "6f24e934",
   "metadata": {},
   "source": [
    "#### construct table from csv"
   ]
  },
  {
   "cell_type": "code",
   "execution_count": null,
   "id": "69886e20",
   "metadata": {},
   "outputs": [],
   "source": [
    "config = {\"csv_file\": \"/home/jingjunx/openreview_benchmark/Code/paper-crawler/examples/csv_data/csv_openreview_papers_authors_example.csv\"}\n",
    "research_arcade.construct_table_from_csv(\"openreview_papers_authors\", config)"
   ]
  },
  {
   "cell_type": "markdown",
   "id": "b8ce80fd",
   "metadata": {},
   "source": [
    "#### construct table from json"
   ]
  },
  {
   "cell_type": "code",
   "execution_count": null,
   "id": "9525c3cc",
   "metadata": {},
   "outputs": [],
   "source": [
    "config = {\"json_file\": \"/home/jingjunx/openreview_benchmark/Code/paper-crawler/examples/json_data/json_openreview_papers_authors_example.json\"}\n",
    "research_arcade.construct_table_from_json(\"openreview_papers_authors\", config)"
   ]
  },
  {
   "cell_type": "markdown",
   "id": "f6e68945",
   "metadata": {},
   "source": [
    "#### insert edge"
   ]
  },
  {
   "cell_type": "code",
   "execution_count": null,
   "id": "2609d33c",
   "metadata": {},
   "outputs": [],
   "source": [
    "paper_authors = [{'venue': 'ICLR.cc/2025/Conference', 'paper_openreview_id': '00SnKBGTsz', 'author_openreview_id': '~Elias_Stengel-Eskin1'}, \n",
    "                 {'venue': 'ICLR.cc/2025/Conference', 'paper_openreview_id': '00SnKBGTsz', 'author_openreview_id': '~Zaid_Khan1'}, \n",
    "                 {'venue': 'ICLR.cc/2025/Conference', 'paper_openreview_id': '00SnKBGTsz', 'author_openreview_id': '~Jaemin_Cho1'}, \n",
    "                 {'venue': 'ICLR.cc/2025/Conference', 'paper_openreview_id': '00SnKBGTsz', 'author_openreview_id': '~Mohit_Bansal2'}]\n",
    "for item in paper_authors:\n",
    "    research_arcade.insert_edge(\"openreview_papers_authors\", item)\n",
    "\n",
    "author_papers = [{'venue': 'ICLR.cc/2025/Conference', 'paper_openreview_id': 'Xbl6t6zxZs', 'author_openreview_id': '~Elias_Stengel-Eskin1'}, \n",
    "                 {'venue': 'ICLR.cc/2025/Conference', 'paper_openreview_id': 'fDcn3S8oAt', 'author_openreview_id': '~Elias_Stengel-Eskin1'}, \n",
    "                 {'venue': 'ICLR.cc/2025/Conference', 'paper_openreview_id': 'j9wBgcxa7N', 'author_openreview_id': '~Elias_Stengel-Eskin1'}, \n",
    "                 {'venue': 'ICLR.cc/2025/Conference', 'paper_openreview_id': 'zd0iX5xBhA', 'author_openreview_id': '~Elias_Stengel-Eskin1'}, \n",
    "                 {'venue': 'ICLR.cc/2024/Conference', 'paper_openreview_id': 'L4nOxziGf9', 'author_openreview_id': '~Elias_Stengel-Eskin1'}, \n",
    "                 {'venue': 'ICLR.cc/2024/Conference', 'paper_openreview_id': 'qL9gogRepu', 'author_openreview_id': '~Elias_Stengel-Eskin1'}, \n",
    "                 {'venue': 'ICLR.cc/2025/Conference', 'paper_openreview_id': '00SnKBGTsz', 'author_openreview_id': '~Elias_Stengel-Eskin1'}]\n",
    "for item in author_papers:\n",
    "    research_arcade.insert_edge(\"openreview_papers_authors\", item)\n",
    "\n",
    "paper_author = [{'venue': 'ICLR.cc/2025/Conference', 'paper_openreview_id': '00SnKBGTsz', 'author_openreview_id': '~Elias_Stengel-Eskin1'}]\n",
    "for item in paper_author:\n",
    "    research_arcade.insert_edge(\"openreview_papers_authors\", item)"
   ]
  },
  {
   "cell_type": "markdown",
   "id": "de351a73",
   "metadata": {},
   "source": [
    "#### delete specific edge by id"
   ]
  },
  {
   "cell_type": "code",
   "execution_count": null,
   "id": "00deb3c9",
   "metadata": {},
   "outputs": [],
   "source": [
    "paper_id = {\"paper_openreview_id\": \"00SnKBGTsz\"}\n",
    "openreview_papers_authors = research_arcade.delete_edge_by_id(\"openreview_papers_authors\", paper_id)\n",
    "print(openreview_papers_authors.to_dict(orient=\"records\"))\n",
    "\n",
    "author_id = {'author_openreview_id': '~Elias_Stengel-Eskin1'}\n",
    "openreview_papers_authors = research_arcade.delete_edge_by_id(\"openreview_papers_authors\", author_id)\n",
    "print(openreview_papers_authors.to_dict(orient=\"records\"))\n",
    "\n",
    "paper_author = {\"paper_openreview_id\": \"00SnKBGTsz\", 'author_openreview_id': '~Elias_Stengel-Eskin1'}\n",
    "openreview_papers_authors = research_arcade.delete_edge_by_id(\"openreview_papers_authors\", paper_author)\n",
    "print(openreview_papers_authors.to_dict(orient=\"records\"))"
   ]
  },
  {
   "cell_type": "markdown",
   "id": "1b449550",
   "metadata": {},
   "source": [
    "#### get all edges"
   ]
  },
  {
   "cell_type": "code",
   "execution_count": null,
   "id": "7a997930",
   "metadata": {},
   "outputs": [],
   "source": [
    "openreview_papers_authors = research_arcade.get_all_edge_features(\"openreview_papers_authors\")\n",
    "print(len(openreview_papers_authors))"
   ]
  },
  {
   "cell_type": "markdown",
   "id": "dac86a39",
   "metadata": {},
   "source": [
    "#### get neighborhood by id"
   ]
  },
  {
   "cell_type": "code",
   "execution_count": null,
   "id": "9c82adba",
   "metadata": {},
   "outputs": [],
   "source": [
    "paper_id = {\"paper_openreview_id\": \"00SnKBGTsz\"}\n",
    "openreview_papers_authors = research_arcade.get_neighborhood(\"openreview_papers_authors\", paper_id)\n",
    "print(openreview_papers_authors.to_dict(orient=\"records\"))\n",
    "\n",
    "author_id = {'author_openreview_id': '~Elias_Stengel-Eskin1'}\n",
    "openreview_papers_authors = research_arcade.get_neighborhood(\"openreview_papers_authors\", author_id)\n",
    "print(openreview_papers_authors.to_dict(orient=\"records\"))"
   ]
  },
  {
   "cell_type": "markdown",
   "id": "ddcc5502",
   "metadata": {},
   "source": [
    "## openreview_papers_reviews"
   ]
  },
  {
   "cell_type": "markdown",
   "id": "7601bf42",
   "metadata": {},
   "source": [
    "#### construct table from api"
   ]
  },
  {
   "cell_type": "code",
   "execution_count": null,
   "id": "92ecfbf5",
   "metadata": {},
   "outputs": [],
   "source": [
    "config = {\"venue\": \"ICLR.cc/2017/conference\"}\n",
    "research_arcade.construct_table_from_api(\"openreview_papers_reviews\", config)"
   ]
  },
  {
   "cell_type": "markdown",
   "id": "93a50568",
   "metadata": {},
   "source": [
    "#### construct table from csv"
   ]
  },
  {
   "cell_type": "code",
   "execution_count": null,
   "id": "cb035544",
   "metadata": {},
   "outputs": [],
   "source": [
    "config = {\"csv_file\": \"/home/jingjunx/openreview_benchmark/Code/paper-crawler/examples/csv_data/csv_openreview_papers_reviews_example.csv\"}\n",
    "research_arcade.construct_table_from_csv(\"openreview_papers_reviews\", config)"
   ]
  },
  {
   "cell_type": "markdown",
   "id": "6dfaa92f",
   "metadata": {},
   "source": [
    "#### construct table from json"
   ]
  },
  {
   "cell_type": "code",
   "execution_count": null,
   "id": "89ab8577",
   "metadata": {},
   "outputs": [],
   "source": [
    "config = {\"json_file\": \"/home/jingjunx/openreview_benchmark/Code/paper-crawler/examples/json_data/json_openreview_papers_reviews_example.json\"}\n",
    "research_arcade.construct_table_from_json(\"openreview_papers_reviews\", config)"
   ]
  },
  {
   "cell_type": "markdown",
   "id": "e75e7088",
   "metadata": {},
   "source": [
    "#### insert edge"
   ]
  },
  {
   "cell_type": "code",
   "execution_count": null,
   "id": "0e3596f6",
   "metadata": {},
   "outputs": [],
   "source": [
    "paper_review = {'venue': 'ICLR.cc/2025/Conference', \n",
    "                'paper_openreview_id': '00SnKBGTsz', \n",
    "                'review_openreview_id': '13mj0Rtn5W', \n",
    "                'title': 'Response by Authors', \n",
    "                'time': '2024-11-27 17:27:45'}\n",
    "research_arcade.insert_edge(\"openreview_papers_reviews\", paper_review)\n",
    "\n",
    "paper_reviews = [{'venue': 'ICLR.cc/2025/Conference', 'paper_openreview_id': '00SnKBGTsz', 'review_openreview_id': '7XT4kLWV2f', 'title': 'Official Review by Reviewer_wuGW', 'time': '2024-11-01 14:52:22'}, \n",
    "                 {'venue': 'ICLR.cc/2025/Conference', 'paper_openreview_id': '00SnKBGTsz', 'review_openreview_id': 'i3QgWgrJff', 'title': 'Official Review by Reviewer_rVo8', 'time': '2024-11-04 02:37:10'}, \n",
    "                 {'venue': 'ICLR.cc/2025/Conference', 'paper_openreview_id': '00SnKBGTsz', 'review_openreview_id': 'GMsjHLXdOx', 'title': 'Official Review by Reviewer_c5nB', 'time': '2024-11-04 09:59:14'}, \n",
    "                 {'venue': 'ICLR.cc/2025/Conference', 'paper_openreview_id': '00SnKBGTsz', 'review_openreview_id': 'r8ZflFk3T7', 'title': 'Official Review by Reviewer_VQ9Y', 'time': '2024-11-06 00:15:47'}, \n",
    "                 {'venue': 'ICLR.cc/2025/Conference', 'paper_openreview_id': '00SnKBGTsz', 'review_openreview_id': '4CnQpVCYkF', 'title': 'Response by Authors', 'time': '2024-11-20 22:48:42'}, \n",
    "                 {'venue': 'ICLR.cc/2025/Conference', 'paper_openreview_id': '00SnKBGTsz', 'review_openreview_id': 'h1qvpjhRP3', 'title': 'Response by Authors', 'time': '2024-11-20 22:51:07'}, \n",
    "                 {'venue': 'ICLR.cc/2025/Conference', 'paper_openreview_id': '00SnKBGTsz', 'review_openreview_id': 'pOR42YNLtU', 'title': 'Response by Authors', 'time': '2024-11-20 22:55:04'}, \n",
    "                 {'venue': 'ICLR.cc/2025/Conference', 'paper_openreview_id': '00SnKBGTsz', 'review_openreview_id': 'Aq2tBtB0lt', 'title': 'Response by Authors', 'time': '2024-11-20 22:57:18'}, \n",
    "                 {'venue': 'ICLR.cc/2025/Conference', 'paper_openreview_id': '00SnKBGTsz', 'review_openreview_id': 'm1iUqPHpwk', 'title': 'Response by Authors', 'time': '2024-11-20 22:58:29'}, \n",
    "                 {'venue': 'ICLR.cc/2025/Conference', 'paper_openreview_id': '00SnKBGTsz', 'review_openreview_id': '66buacQmRe', 'title': 'Response by Authors', 'time': '2024-11-20 23:02:21'}, \n",
    "                 {'venue': 'ICLR.cc/2025/Conference', 'paper_openreview_id': '00SnKBGTsz', 'review_openreview_id': 'Bgr7Ol90m7', 'title': 'Response by Authors', 'time': '2024-11-22 23:11:06'}, \n",
    "                 {'venue': 'ICLR.cc/2025/Conference', 'paper_openreview_id': '00SnKBGTsz', 'review_openreview_id': 'H2h2K6a8x5', 'title': 'Response by Reviewer', 'time': '2024-11-23 10:04:58'}, \n",
    "                 {'venue': 'ICLR.cc/2025/Conference', 'paper_openreview_id': '00SnKBGTsz', 'review_openreview_id': 'la5jPwJU4g', 'title': 'Response by Authors', 'time': '2024-11-24 19:17:22'}, \n",
    "                 {'venue': 'ICLR.cc/2025/Conference', 'paper_openreview_id': '00SnKBGTsz', 'review_openreview_id': 'DjVKsUoFN2', 'title': 'Response by Reviewer', 'time': '2024-11-25 04:00:18'}, \n",
    "                 {'venue': 'ICLR.cc/2025/Conference', 'paper_openreview_id': '00SnKBGTsz', 'review_openreview_id': 'C3MhCuKhTf', 'title': 'Response by Authors', 'time': '2024-11-25 19:44:38'}, \n",
    "                 {'venue': 'ICLR.cc/2025/Conference', 'paper_openreview_id': '00SnKBGTsz', 'review_openreview_id': 'ZqwAYtcmhv', 'title': 'Response by Authors', 'time': '2024-11-25 19:45:43'}, \n",
    "                 {'venue': 'ICLR.cc/2025/Conference', 'paper_openreview_id': '00SnKBGTsz', 'review_openreview_id': '9OQJoesINr', 'title': 'Response by Reviewer', 'time': '2024-11-25 20:07:51'}, \n",
    "                 {'venue': 'ICLR.cc/2025/Conference', 'paper_openreview_id': '00SnKBGTsz', 'review_openreview_id': 'wqTNtVDwef', 'title': 'Response by Authors', 'time': '2024-11-26 03:32:30'}, \n",
    "                 {'venue': 'ICLR.cc/2025/Conference', 'paper_openreview_id': '00SnKBGTsz', 'review_openreview_id': 'NEsxOTkkIV', 'title': 'Response by Reviewer', 'time': '2024-11-26 20:00:00'}, \n",
    "                 {'venue': 'ICLR.cc/2025/Conference', 'paper_openreview_id': '00SnKBGTsz', 'review_openreview_id': '13mj0Rtn5W', 'title': 'Response by Authors', 'time': '2024-11-27 17:27:45'}, \n",
    "                 {'venue': 'ICLR.cc/2025/Conference', 'paper_openreview_id': '00SnKBGTsz', 'review_openreview_id': 'hWat8aFBRw', 'title': 'Response by Reviewer', 'time': '2024-11-27 11:34:03'}, \n",
    "                 {'venue': 'ICLR.cc/2025/Conference', 'paper_openreview_id': '00SnKBGTsz', 'review_openreview_id': 'wnsiUkDh00', 'title': 'Response by Authors', 'time': '2024-11-27 17:28:35'}, \n",
    "                 {'venue': 'ICLR.cc/2025/Conference', 'paper_openreview_id': '00SnKBGTsz', 'review_openreview_id': 'zpboemkkjR', 'title': 'Meta Review of Submission11063 by Area_Chair_eoLd', 'time': '2024-12-20 15:14:25'}, \n",
    "                 {'venue': 'ICLR.cc/2025/Conference', 'paper_openreview_id': '00SnKBGTsz', 'review_openreview_id': 'kokKFEn2fw', 'title': 'Paper Decision', 'time': '2025-01-22 05:35:00'}\n",
    "]\n",
    "for item in tqdm(paper_reviews):\n",
    "    research_arcade.insert_edge(\"openreview_papers_reviews\", item)"
   ]
  },
  {
   "cell_type": "markdown",
   "id": "c2d8f462",
   "metadata": {},
   "source": [
    "#### delete specific edge by id"
   ]
  },
  {
   "cell_type": "code",
   "execution_count": null,
   "id": "102f2179",
   "metadata": {},
   "outputs": [],
   "source": [
    "paper_review_id = {\"paper_openreview_id\": \"00SnKBGTsz\", \"review_openreview_id\": \"13mj0Rtn5W\"}\n",
    "openreview_papers_reviews = research_arcade.delete_edge_by_id(\"openreview_papers_reviews\", paper_review_id)\n",
    "print(openreview_papers_reviews.to_dict(orient=\"records\"))\n",
    "\n",
    "review_id = {\"review_openreview_id\": \"13mj0Rtn5W\"}\n",
    "openreview_papers_reviews = research_arcade.delete_edge_by_id(\"openreview_papers_reviews\", review_id)\n",
    "print(openreview_papers_reviews.to_dict(orient=\"records\"))\n",
    "\n",
    "paper_id = {\"paper_openreview_id\": \"00SnKBGTsz\"}\n",
    "openreview_papers_reviews = research_arcade.delete_edge_by_id(\"openreview_papers_reviews\", paper_id)\n",
    "print(openreview_papers_reviews.to_dict(orient=\"records\"))"
   ]
  },
  {
   "cell_type": "markdown",
   "id": "8c3fcb06",
   "metadata": {},
   "source": [
    "#### get all edges"
   ]
  },
  {
   "cell_type": "code",
   "execution_count": null,
   "id": "b2164207",
   "metadata": {},
   "outputs": [],
   "source": [
    "openreview_papers_reviews = research_arcade.get_all_edge_features(\"openreview_papers_reviews\")\n",
    "print(len(openreview_papers_reviews))"
   ]
  },
  {
   "cell_type": "markdown",
   "id": "8b8fa9b0",
   "metadata": {},
   "source": [
    "#### get neighborhood by id"
   ]
  },
  {
   "cell_type": "code",
   "execution_count": null,
   "id": "77c645be",
   "metadata": {},
   "outputs": [],
   "source": [
    "paper_id = {\"paper_openreview_id\": \"00SnKBGTsz\"}\n",
    "openreview_papers_reviews = research_arcade.get_neighborhood(\"openreview_papers_reviews\", paper_id)\n",
    "print(openreview_papers_reviews.to_dict(orient=\"records\"))\n",
    "\n",
    "review_id = {\"review_openreview_id\": \"13mj0Rtn5W\"}\n",
    "openreview_papers_reviews = research_arcade.get_neighborhood(\"openreview_papers_reviews\", review_id)\n",
    "print(openreview_papers_reviews.to_dict(orient=\"records\"))"
   ]
  },
  {
   "cell_type": "markdown",
   "id": "c10236f8",
   "metadata": {},
   "source": [
    "## openreview_papers_revisions"
   ]
  },
  {
   "cell_type": "markdown",
   "id": "a9a75850",
   "metadata": {},
   "source": [
    "#### construct table from api"
   ]
  },
  {
   "cell_type": "code",
   "execution_count": null,
   "id": "b9e98a93",
   "metadata": {},
   "outputs": [],
   "source": [
    "config = {\"venue\": \"ICLR.cc/2025/Conference\"}\n",
    "research_arcade.construct_table_from_api(\"openreview_papers_revisions\", config)"
   ]
  },
  {
   "cell_type": "markdown",
   "id": "c7095bc3",
   "metadata": {},
   "source": [
    "#### construct table from csv"
   ]
  },
  {
   "cell_type": "code",
   "execution_count": null,
   "id": "2e858b2d",
   "metadata": {},
   "outputs": [],
   "source": [
    "config = {\"csv_file\": \"/home/jingjunx/openreview_benchmark/Code/paper-crawler/examples/csv_data/csv_openreview_papers_revisions_example.csv\"}\n",
    "research_arcade.construct_table_from_csv(\"openreview_papers_revisions\", config)"
   ]
  },
  {
   "cell_type": "markdown",
   "id": "e3f77782",
   "metadata": {},
   "source": [
    "#### construct table from json"
   ]
  },
  {
   "cell_type": "code",
   "execution_count": null,
   "id": "cac9628f",
   "metadata": {},
   "outputs": [],
   "source": [
    "config = {\"json_file\": \"/home/jingjunx/openreview_benchmark/Code/paper-crawler/examples/json_data/json_openreview_papers_revisions_example.json\"}\n",
    "research_arcade.construct_table_from_json(\"openreview_papers_revisions\", config)"
   ]
  },
  {
   "cell_type": "markdown",
   "id": "aee6fe7c",
   "metadata": {},
   "source": [
    "#### insert edge"
   ]
  },
  {
   "cell_type": "code",
   "execution_count": null,
   "id": "5bc96388",
   "metadata": {},
   "outputs": [],
   "source": [
    "paper_revision = {'venue': 'ICLR.cc/2025/Conference', 'paper_openreview_id': '00SnKBGTsz', 'revision_openreview_id': 'dzL3IRBnE4', 'title': 'Camera_Ready_Revision', 'time': '2025-03-01 03:36:55'}\n",
    "research_arcade.insert_edge(\"openreview_papers_revisions\", paper_revision)\n",
    "\n",
    "paper_revisions = [{'venue': 'ICLR.cc/2025/Conference', 'paper_openreview_id': '00SnKBGTsz', 'revision_openreview_id': 'oT4N28siLO', 'title': 'Camera_Ready_Revision', 'time': '2025-03-02 01:35:16'}, \n",
    "                   {'venue': 'ICLR.cc/2025/Conference', 'paper_openreview_id': '00SnKBGTsz', 'revision_openreview_id': 'dzL3IRBnE4', 'title': 'Camera_Ready_Revision', 'time': '2025-03-01 03:36:55'}]\n",
    "for item in tqdm(paper_revisions):\n",
    "    research_arcade.insert_edge(\"openreview_papers_revisions\", item)"
   ]
  },
  {
   "cell_type": "markdown",
   "id": "5716690e",
   "metadata": {},
   "source": [
    "#### delete specific node by id"
   ]
  },
  {
   "cell_type": "code",
   "execution_count": null,
   "id": "f4ae0e07",
   "metadata": {},
   "outputs": [],
   "source": [
    "paper_revision_id = {\"paper_openreview_id\": \"00SnKBGTsz\", \"revision_openreview_id\": \"dzL3IRBnE4\"}\n",
    "paper_revision = research_arcade.delete_edge_by_id(\"openreview_papers_revisions\", paper_revision_id)\n",
    "print(paper_revision.to_dict(orient=\"records\"))\n",
    "\n",
    "revision_id = {\"revision_openreview_id\": \"dzL3IRBnE4\"}\n",
    "paper_revision = research_arcade.delete_edge_by_id(\"openreview_papers_revisions\", revision_id)\n",
    "print(paper_revision.to_dict(orient=\"records\"))\n",
    "\n",
    "paper_id = {\"paper_openreview_id\": \"00SnKBGTsz\"}\n",
    "paper_revision = research_arcade.delete_edge_by_id(\"openreview_papers_revisions\", paper_id)\n",
    "print(paper_revision.to_dict(orient=\"records\"))"
   ]
  },
  {
   "cell_type": "markdown",
   "id": "4e733028",
   "metadata": {},
   "source": [
    "#### get all edges"
   ]
  },
  {
   "cell_type": "code",
   "execution_count": null,
   "id": "ce044128",
   "metadata": {},
   "outputs": [],
   "source": [
    "openreview_papers_revisions = research_arcade.get_all_edge_features(\"openreview_papers_revisions\")\n",
    "print(len(openreview_papers_revisions))"
   ]
  },
  {
   "cell_type": "markdown",
   "id": "7e6863ba",
   "metadata": {},
   "source": [
    "#### get neighborhood by id"
   ]
  },
  {
   "cell_type": "code",
   "execution_count": null,
   "id": "3e57a9a5",
   "metadata": {},
   "outputs": [],
   "source": [
    "paper_id = {\"paper_openreview_id\": \"00SnKBGTsz\"}\n",
    "paper_revision = research_arcade.get_neighborhood(\"openreview_papers_revisions\", paper_id)\n",
    "print(paper_revision.to_dict(orient=\"records\"))\n",
    "\n",
    "revision_id = {\"revision_openreview_id\": \"dzL3IRBnE4\"}\n",
    "paper_revision = research_arcade.get_neighborhood(\"openreview_papers_revisions\", revision_id)\n",
    "print(paper_revision.to_dict(orient=\"records\"))"
   ]
  },
  {
   "cell_type": "markdown",
   "id": "ef38635e",
   "metadata": {},
   "source": [
    "## openreview_revisions_reviews"
   ]
  },
  {
   "cell_type": "markdown",
   "id": "64c2cc79",
   "metadata": {},
   "source": [
    "#### construct table based on existing tables"
   ]
  },
  {
   "cell_type": "code",
   "execution_count": null,
   "id": "7200b32a",
   "metadata": {},
   "outputs": [],
   "source": [
    "papers_reviews_df = research_arcade.get_all_edge_features(\"openreview_papers_reviews\")\n",
    "print(len(papers_reviews_df))\n",
    "papers_revisions_df = research_arcade.get_all_edge_features(\"openreview_papers_revisions\")\n",
    "print(len(papers_revisions_df))\n",
    "config = {\"papers_reviews_df\": papers_reviews_df, \"papers_revisions_df\": papers_revisions_df}\n",
    "research_arcade.construct_table_from_api(\"openreview_revisions_reviews\", config)"
   ]
  },
  {
   "cell_type": "markdown",
   "id": "45986e7a",
   "metadata": {},
   "source": [
    "#### construct table from csv"
   ]
  },
  {
   "cell_type": "code",
   "execution_count": null,
   "id": "2139877b",
   "metadata": {},
   "outputs": [],
   "source": [
    "config = {\"csv_file\": \"/home/jingjunx/openreview_benchmark/Code/paper-crawler/examples/csv_data/csv_openreview_revisions_reviews_example.csv\"}\n",
    "research_arcade.construct_table_from_csv(\"openreview_revisions_reviews\", config)"
   ]
  },
  {
   "cell_type": "markdown",
   "id": "6122bba4",
   "metadata": {},
   "source": [
    "#### construct table from json"
   ]
  },
  {
   "cell_type": "code",
   "execution_count": null,
   "id": "1dfcb6b8",
   "metadata": {},
   "outputs": [],
   "source": [
    "config = {\"json_file\": \"/home/jingjunx/openreview_benchmark/Code/paper-crawler/examples/json_data/json_openreview_revisions_reviews_example.json\"}\n",
    "research_arcade.construct_table_from_json(\"openreview_revisions_reviews\", config)"
   ]
  },
  {
   "cell_type": "markdown",
   "id": "36040c82",
   "metadata": {},
   "source": [
    "#### insert edge"
   ]
  },
  {
   "cell_type": "code",
   "execution_count": null,
   "id": "53b9bf25",
   "metadata": {},
   "outputs": [],
   "source": [
    "revision_review = {'venue': 'ICLR.cc/2025/Conference', 'revision_openreview_id': 'cX02yuzwWI', 'review_openreview_id': 'wumckDPIQ3'}\n",
    "research_arcade.insert_edge(\"openreview_revisions_reviews\", revision_review)\n",
    "\n",
    "revision_reviews = [{'venue': 'ICLR.cc/2025/Conference', 'revision_openreview_id': 'cX02yuzwWI', 'review_openreview_id': 'wumckDPIQ3'}, \n",
    "                    {'venue': 'ICLR.cc/2025/Conference', 'revision_openreview_id': 'cX02yuzwWI', 'review_openreview_id': '138cOdBpgA'}, \n",
    "                    {'venue': 'ICLR.cc/2025/Conference', 'revision_openreview_id': 'cX02yuzwWI', 'review_openreview_id': 'yKh1fQYnUZ'}, \n",
    "                    {'venue': 'ICLR.cc/2025/Conference', 'revision_openreview_id': 'cX02yuzwWI', 'review_openreview_id': 'Pvt0OjNSp2'}, \n",
    "                    {'venue': 'ICLR.cc/2025/Conference', 'revision_openreview_id': 'cX02yuzwWI', 'review_openreview_id': 'MUhlEYyBD9'}, \n",
    "                    {'venue': 'ICLR.cc/2025/Conference', 'revision_openreview_id': 'cX02yuzwWI', 'review_openreview_id': '2mqiS3J8wC'}, \n",
    "                    {'venue': 'ICLR.cc/2025/Conference', 'revision_openreview_id': 'cX02yuzwWI', 'review_openreview_id': 'Er8QTorcyr'}, \n",
    "                    {'venue': 'ICLR.cc/2025/Conference', 'revision_openreview_id': 'cX02yuzwWI', 'review_openreview_id': 'AvtD9uxRtX'}, \n",
    "                    {'venue': 'ICLR.cc/2025/Conference', 'revision_openreview_id': 'cX02yuzwWI', 'review_openreview_id': '2tgxTGynNm'}, \n",
    "                    {'venue': 'ICLR.cc/2025/Conference', 'revision_openreview_id': 'cX02yuzwWI', 'review_openreview_id': '5MKJE3sFsd'}, \n",
    "                    {'venue': 'ICLR.cc/2025/Conference', 'revision_openreview_id': 'cX02yuzwWI', 'review_openreview_id': 'wViZ0H4ErF'}, \n",
    "                    {'venue': 'ICLR.cc/2025/Conference', 'revision_openreview_id': 'cX02yuzwWI', 'review_openreview_id': '0c1It75dTb'}, \n",
    "                    {'venue': 'ICLR.cc/2025/Conference', 'revision_openreview_id': 'cX02yuzwWI', 'review_openreview_id': 'PFwia9lcjP'}, \n",
    "                    {'venue': 'ICLR.cc/2025/Conference', 'revision_openreview_id': 'cX02yuzwWI', 'review_openreview_id': 'ygCqaGNPee'}]\n",
    "for item in tqdm(revision_reviews):\n",
    "    research_arcade.insert_edge(\"openreview_revisions_reviews\", item)"
   ]
  },
  {
   "cell_type": "markdown",
   "id": "3c97ba61",
   "metadata": {},
   "source": [
    "#### delete edge by id"
   ]
  },
  {
   "cell_type": "code",
   "execution_count": null,
   "id": "c14cc2e7",
   "metadata": {},
   "outputs": [],
   "source": [
    "revision_review_id = {'revision_openreview_id': 'cX02yuzwWI', 'review_openreview_id': 'wumckDPIQ3'}\n",
    "revision_review = research_arcade.delete_edge_by_id(\"openreview_revisions_reviews\", revision_review_id)\n",
    "print(revision_review.to_dict(orient=\"records\"))\n",
    "\n",
    "review_id = {'review_openreview_id': 'wumckDPIQ3'}\n",
    "revision_review = research_arcade.delete_edge_by_id(\"openreview_revisions_reviews\", review_id)\n",
    "print(revision_review.to_dict(orient=\"records\"))\n",
    "\n",
    "paper_id = {'revision_openreview_id': 'cX02yuzwWI'}\n",
    "revision_review = research_arcade.delete_edge_by_id(\"openreview_revisions_reviews\", paper_id)\n",
    "print(revision_review.to_dict(orient=\"records\"))"
   ]
  },
  {
   "cell_type": "markdown",
   "id": "2380217c",
   "metadata": {},
   "source": [
    "#### get all edges"
   ]
  },
  {
   "cell_type": "code",
   "execution_count": null,
   "id": "73d269e4",
   "metadata": {},
   "outputs": [],
   "source": [
    "openreview_revisions_reviews = research_arcade.get_all_edge_features(\"openreview_revisions_reviews\")\n",
    "print(len(openreview_revisions_reviews))"
   ]
  },
  {
   "cell_type": "markdown",
   "id": "ac02c01e",
   "metadata": {},
   "source": [
    "#### get neighborhood by id"
   ]
  },
  {
   "cell_type": "code",
   "execution_count": null,
   "id": "72a9434e",
   "metadata": {},
   "outputs": [],
   "source": [
    "revision_id = {'revision_openreview_id': 'cX02yuzwWI'}\n",
    "revision_review = research_arcade.get_neighborhood(\"openreview_revisions_reviews\", revision_id)\n",
    "print(revision_review.to_dict(orient=\"records\"))\n",
    "\n",
    "review_id = {'review_openreview_id': 'wumckDPIQ3'}\n",
    "revision_review = research_arcade.get_neighborhood(\"openreview_revisions_reviews\", review_id)\n",
    "print(revision_review.to_dict(orient=\"records\"))"
   ]
  }
 ],
 "metadata": {
  "kernelspec": {
   "display_name": "eval",
   "language": "python",
   "name": "python3"
  },
  "language_info": {
   "name": "python",
   "version": "3.12.11"
  }
 },
 "nbformat": 4,
 "nbformat_minor": 5
}
